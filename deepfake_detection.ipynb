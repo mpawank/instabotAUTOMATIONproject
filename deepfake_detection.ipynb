{
  "nbformat": 4,
  "nbformat_minor": 0,
  "metadata": {
    "colab": {
      "provenance": [],
      "authorship_tag": "ABX9TyO7GYjLawjSXr2+10FsHJRP",
      "include_colab_link": true
    },
    "kernelspec": {
      "name": "python3",
      "display_name": "Python 3"
    },
    "language_info": {
      "name": "python"
    }
  },
  "cells": [
    {
      "cell_type": "markdown",
      "metadata": {
        "id": "view-in-github",
        "colab_type": "text"
      },
      "source": [
        "<a href=\"https://colab.research.google.com/github/mpawank/instabotAUTOMATIONproject/blob/main/deepfake_detection.ipynb\" target=\"_parent\"><img src=\"https://colab.research.google.com/assets/colab-badge.svg\" alt=\"Open In Colab\"/></a>"
      ]
    },
    {
      "cell_type": "code",
      "execution_count": 2,
      "metadata": {
        "colab": {
          "base_uri": "https://localhost:8080/"
        },
        "id": "WUr6EB1gZYh5",
        "outputId": "bbc3b5e5-88f7-44a4-e71e-1d91f9014a51"
      },
      "outputs": [
        {
          "output_type": "stream",
          "name": "stdout",
          "text": [
            "Collecting mtcnn\n",
            "  Downloading mtcnn-0.1.1-py3-none-any.whl (2.3 MB)\n",
            "\u001b[2K     \u001b[90m━━━━━━━━━━━━━━━━━━━━━━━━━━━━━━━━━━━━━━━━\u001b[0m \u001b[32m2.3/2.3 MB\u001b[0m \u001b[31m9.3 MB/s\u001b[0m eta \u001b[36m0:00:00\u001b[0m\n",
            "\u001b[?25hRequirement already satisfied: keras>=2.0.0 in /usr/local/lib/python3.10/dist-packages (from mtcnn) (2.15.0)\n",
            "Requirement already satisfied: opencv-python>=4.1.0 in /usr/local/lib/python3.10/dist-packages (from mtcnn) (4.8.0.76)\n",
            "Requirement already satisfied: numpy>=1.21.2 in /usr/local/lib/python3.10/dist-packages (from opencv-python>=4.1.0->mtcnn) (1.25.2)\n",
            "Installing collected packages: mtcnn\n",
            "Successfully installed mtcnn-0.1.1\n"
          ]
        }
      ],
      "source": [
        "pip install mtcnn"
      ]
    },
    {
      "cell_type": "code",
      "source": [
        "import numpy as np\n",
        "import matplotlib.pyplot as plt\n",
        "import cv2\n",
        "import pandas as pd\n",
        "import glob2\n",
        "import os, fnmatch\n",
        "from pathlib import Path\n",
        "# import mtcnn\n",
        "from mtcnn.mtcnn import MTCNN"
      ],
      "metadata": {
        "id": "fWG5kB9pXe33"
      },
      "execution_count": 3,
      "outputs": []
    },
    {
      "cell_type": "code",
      "source": [
        "def extract_multiple_videos(intput_filenames, image_path_infile):\n",
        "    \"\"\"Extract video files into sequence of images.\"\"\"\n",
        "i = 1  # Counter of first video\n",
        "# Iterate file names:\n",
        "cap = cv2.VideoCapture('your_video_file_path.avi' or intput_filenames)\n",
        "if (cap.isOpened()== False):\n",
        "        print(\"Error opening file\")\n",
        "# Keep iterating break\n",
        "while True:\n",
        "\n",
        "  ret, frame = cap.read()  # Read frame from first video\n",
        "\n",
        "if ret:\n",
        "  cv2.imwrite(os.path.join(image_path_infile , str(i) + '.jpg'), frame)  # Write frame to JPEG file (1.jpg, 2.jpg, ...)\n",
        "# you can uncomment this line if you want to view them.\n",
        "#           cv2.imshow('frame', frame)  # Display frame for testing\n",
        "  i += 1 # Advance file counter\n",
        "else:\n",
        "  break\n",
        "cv2.waitKey(50) #Wait 50msec\n",
        "cap.release()"
      ],
      "metadata": {
        "id": "HEJTgCiybEkA",
        "colab": {
          "base_uri": "https://localhost:8080/"
        },
        "outputId": "854ce7f6-8076-44a5-c86c-7b2b239ddf6d"
      },
      "execution_count": null,
      "outputs": [
        {
          "output_type": "stream",
          "name": "stdout",
          "text": [
            "Error opening file\n"
          ]
        }
      ]
    },
    {
      "cell_type": "code",
      "source": [
        "from skimage import measure\n",
        "def mse(imageA, imageB):\n",
        "\n",
        "    err = np.sum((imageA.astype(\"float\") - imageB.astype(\"float\")) ** 2)\n",
        "    err /= float(imageA.shape[0] * imageA.shape[1])\n",
        "\n",
        "    return err\n",
        "def compare_images(imageA, imageB, title):\n",
        "    m = mse(imageA, imageB)\n",
        "    s = measure.compare_ssim(imageA, imageB)\n",
        "\n",
        "    fig = plt.figure(title)\n",
        "    plt.suptitle(\"MSE: %.2f, SSIM: %.2f\" % (m, s))\n",
        "\n",
        "    ax = fig.add_subplot(1, 2, 1)\n",
        "    plt.imshow(imageA, cmap = plt.cm.gray)\n",
        "    plt.axis(\"off\")\n",
        "\n",
        "    ax = fig.add_subplot(1, 2, 2)\n",
        "    plt.imshow(imageB, cmap = plt.cm.gray)\n",
        "    plt.axis(\"off\")\n",
        "\n",
        "    plt.show()"
      ],
      "metadata": {
        "id": "D0kx8wgQaMP-"
      },
      "execution_count": null,
      "outputs": []
    }
  ]
}